{
 "cells": [
  {
   "cell_type": "code",
   "execution_count": 28,
   "id": "ab14f0e9-cecb-44ef-871d-67065c025654",
   "metadata": {},
   "outputs": [],
   "source": [
    "import pandas as pd\n",
    "\n",
    "# Load the datasets\n",
    "students_df = pd.read_csv(r\"C:\\Users\\vishe\\Documents\\students.csv\")\n",
    "details_df = pd.read_csv(r\"C:\\Users\\vishe\\Documents\\details.csv\")"
   ]
  },
  {
   "cell_type": "code",
   "execution_count": 30,
   "id": "67134fae-2661-4741-b3ac-44646c2d1198",
   "metadata": {},
   "outputs": [
    {
     "name": "stdout",
     "output_type": "stream",
     "text": [
      "   StudentID     Name  Marks  Age Grade\n",
      "0        101    Alice     85   20     A\n",
      "1        102      Bob     90   21     B\n",
      "2        103  Charlie     88   22     A\n"
     ]
    }
   ],
   "source": [
    "inner_join = pd.merge(students_df, details_df, on='StudentID', how='inner')\n",
    "print(inner_join)"
   ]
  },
  {
   "cell_type": "code",
   "execution_count": 32,
   "id": "19db35cd-cc61-4fe1-8ae3-5e7c23ef2c2e",
   "metadata": {},
   "outputs": [
    {
     "name": "stdout",
     "output_type": "stream",
     "text": [
      "   StudentID     Name  Marks   Age Grade\n",
      "0        101    Alice     85  20.0     A\n",
      "1        102      Bob     90  21.0     B\n",
      "2        103  Charlie     88  22.0     A\n",
      "3        104    David     92   NaN   NaN\n"
     ]
    }
   ],
   "source": [
    "left_join = pd.merge(students_df, details_df, on='StudentID', how='left')\n",
    "print(left_join)"
   ]
  },
  {
   "cell_type": "code",
   "execution_count": 34,
   "id": "1d66b405-9fa8-44ef-b589-622cadbc999e",
   "metadata": {},
   "outputs": [
    {
     "name": "stdout",
     "output_type": "stream",
     "text": [
      "   StudentID     Name  Marks  Age Grade\n",
      "0        101    Alice   85.0   20     A\n",
      "1        102      Bob   90.0   21     B\n",
      "2        103  Charlie   88.0   22     A\n",
      "3        105      NaN    NaN   19     C\n"
     ]
    }
   ],
   "source": [
    "right_join = pd.merge(students_df, details_df, on='StudentID', how='right')\n",
    "print(right_join)"
   ]
  },
  {
   "cell_type": "code",
   "execution_count": 36,
   "id": "e9ed559e-6032-42b3-ae75-5b0c32f68e4d",
   "metadata": {},
   "outputs": [
    {
     "name": "stdout",
     "output_type": "stream",
     "text": [
      "   StudentID     Name  Marks   Age Grade\n",
      "0        101    Alice   85.0  20.0     A\n",
      "1        102      Bob   90.0  21.0     B\n",
      "2        103  Charlie   88.0  22.0     A\n",
      "3        104    David   92.0   NaN   NaN\n",
      "4        105      NaN    NaN  19.0     C\n"
     ]
    }
   ],
   "source": [
    "outer_join = pd.merge(students_df, details_df, on='StudentID', how='outer')\n",
    "print(outer_join)"
   ]
  },
  {
   "cell_type": "code",
   "execution_count": 38,
   "id": "2858673a-6a9c-48d7-83e8-9b81a05b85ba",
   "metadata": {},
   "outputs": [
    {
     "name": "stdout",
     "output_type": "stream",
     "text": [
      "              Name  Marks   Age Grade\n",
      "StudentID                            \n",
      "101          Alice   85.0  20.0     A\n",
      "102            Bob   90.0  21.0     B\n",
      "103        Charlie   88.0  22.0     A\n",
      "104          David   92.0   NaN   NaN\n",
      "105            NaN    NaN  19.0     C\n"
     ]
    }
   ],
   "source": [
    "outer_join.set_index('StudentID', inplace=True)\n",
    "print(outer_join)"
   ]
  },
  {
   "cell_type": "code",
   "execution_count": 40,
   "id": "44005b8b-389f-4e93-9930-69d417c27d03",
   "metadata": {},
   "outputs": [],
   "source": [
    "outer_join.reset_index(inplace=True)"
   ]
  },
  {
   "cell_type": "code",
   "execution_count": 42,
   "id": "013bd20b-baf8-4d73-97c1-d9c33f0cd89f",
   "metadata": {},
   "outputs": [],
   "source": [
    "outer_join.to_csv('merged_students_details.csv', index=False)"
   ]
  },
  {
   "cell_type": "code",
   "execution_count": 44,
   "id": "b610fce9-c7d5-4f01-adcc-a52d9d6d4c3c",
   "metadata": {},
   "outputs": [
    {
     "name": "stdout",
     "output_type": "stream",
     "text": [
      "   Pregnancies  Glucose  BloodPressure  SkinThickness  Insulin   BMI  \\\n",
      "0            6      148             72             35        0  33.6   \n",
      "1            1       85             66             29        0  26.6   \n",
      "2            8      183             64              0        0  23.3   \n",
      "3            1       89             66             23       94  28.1   \n",
      "4            0      137             40             35      168  43.1   \n",
      "\n",
      "   DiabetesPedigreeFunction  Age  Outcome  \n",
      "0                     0.627   50        1  \n",
      "1                     0.351   31        0  \n",
      "2                     0.672   32        1  \n",
      "3                     0.167   21        0  \n",
      "4                     2.288   33        1  \n",
      "(768, 9)\n",
      "       Pregnancies     Glucose  BloodPressure  SkinThickness     Insulin  \\\n",
      "count   768.000000  768.000000     768.000000     768.000000  768.000000   \n",
      "mean      3.845052  120.894531      69.105469      20.536458   79.799479   \n",
      "std       3.369578   31.972618      19.355807      15.952218  115.244002   \n",
      "min       0.000000    0.000000       0.000000       0.000000    0.000000   \n",
      "25%       1.000000   99.000000      62.000000       0.000000    0.000000   \n",
      "50%       3.000000  117.000000      72.000000      23.000000   30.500000   \n",
      "75%       6.000000  140.250000      80.000000      32.000000  127.250000   \n",
      "max      17.000000  199.000000     122.000000      99.000000  846.000000   \n",
      "\n",
      "              BMI  DiabetesPedigreeFunction         Age     Outcome  \n",
      "count  768.000000                768.000000  768.000000  768.000000  \n",
      "mean    31.992578                  0.471876   33.240885    0.348958  \n",
      "std      7.884160                  0.331329   11.760232    0.476951  \n",
      "min      0.000000                  0.078000   21.000000    0.000000  \n",
      "25%     27.300000                  0.243750   24.000000    0.000000  \n",
      "50%     32.000000                  0.372500   29.000000    0.000000  \n",
      "75%     36.600000                  0.626250   41.000000    1.000000  \n",
      "max     67.100000                  2.420000   81.000000    1.000000  \n"
     ]
    }
   ],
   "source": [
    "diabetes_df = pd.read_csv(r\"C:\\Users\\vishe\\Downloads\\diabetes.csv\")\n",
    "print(diabetes_df.head())\n",
    "print(diabetes_df.shape)\n",
    "print(diabetes_df.describe())"
   ]
  },
  {
   "cell_type": "code",
   "execution_count": 46,
   "id": "c960443a-27d3-4812-ae05-ebc79f8bf11f",
   "metadata": {},
   "outputs": [],
   "source": [
    "diabetes_df['Glucose'] = diabetes_df['Glucose'].replace(0, diabetes_df['Glucose'].median())\n",
    "diabetes_df['BMI'] = diabetes_df['BMI'].replace(0, diabetes_df['BMI'].median())"
   ]
  }
 ],
 "metadata": {
  "kernelspec": {
   "display_name": "Python 3 (ipykernel)",
   "language": "python",
   "name": "python3"
  },
  "language_info": {
   "codemirror_mode": {
    "name": "ipython",
    "version": 3
   },
   "file_extension": ".py",
   "mimetype": "text/x-python",
   "name": "python",
   "nbconvert_exporter": "python",
   "pygments_lexer": "ipython3",
   "version": "3.12.4"
  }
 },
 "nbformat": 4,
 "nbformat_minor": 5
}
