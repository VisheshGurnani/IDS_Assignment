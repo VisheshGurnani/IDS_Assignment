{
 "cells": [
  {
   "cell_type": "code",
   "execution_count": 5,
   "id": "f7b958c0-0d23-4345-a15d-b3178f1c74fb",
   "metadata": {},
   "outputs": [],
   "source": [
    "import pandas as pd\n",
    "\n",
    "data = {\n",
    "    'Employee ID': [1, 2, 3, 4, 5],\n",
    "    'Name': ['Alice', 'Bob', 'Charlie', 'David', 'Eve'],\n",
    "    'Age': [25, 30, 35, 40, 45],\n",
    "    'Department': ['HR', 'Finance', 'IT', 'Marketing', 'Sales'],\n",
    "    'Salary': [50000, 60000, 70000, 80000, 90000]\n",
    "}\n",
    "\n",
    "df = pd.DataFrame(data)"
   ]
  },
  {
   "cell_type": "code",
   "execution_count": 7,
   "id": "3d9bcc18-edf4-4a81-9500-9f80298dce80",
   "metadata": {},
   "outputs": [
    {
     "name": "stdout",
     "output_type": "stream",
     "text": [
      "   Employee ID     Name  Age Department  Salary\n",
      "0            1    Alice   25         HR   50000\n",
      "1            2      Bob   30    Finance   60000\n",
      "2            3  Charlie   35         IT   70000\n",
      "3            4    David   40  Marketing   80000\n",
      "4            5      Eve   45      Sales   90000\n"
     ]
    }
   ],
   "source": [
    "print(df.head())"
   ]
  },
  {
   "cell_type": "code",
   "execution_count": 9,
   "id": "4c11672d-dc77-4d9f-98d9-f54ee1414044",
   "metadata": {},
   "outputs": [
    {
     "name": "stdout",
     "output_type": "stream",
     "text": [
      "<class 'pandas.core.frame.DataFrame'>\n",
      "RangeIndex: 5 entries, 0 to 4\n",
      "Data columns (total 5 columns):\n",
      " #   Column       Non-Null Count  Dtype \n",
      "---  ------       --------------  ----- \n",
      " 0   Employee ID  5 non-null      int64 \n",
      " 1   Name         5 non-null      object\n",
      " 2   Age          5 non-null      int64 \n",
      " 3   Department   5 non-null      object\n",
      " 4   Salary       5 non-null      int64 \n",
      "dtypes: int64(3), object(2)\n",
      "memory usage: 332.0+ bytes\n",
      "None\n"
     ]
    }
   ],
   "source": [
    "print(df.info())"
   ]
  },
  {
   "cell_type": "code",
   "execution_count": 11,
   "id": "1a63516a-8b21-45f0-883d-ac1215780ccc",
   "metadata": {},
   "outputs": [
    {
     "name": "stdout",
     "output_type": "stream",
     "text": [
      "       Employee ID        Age        Salary\n",
      "count     5.000000   5.000000      5.000000\n",
      "mean      3.000000  35.000000  70000.000000\n",
      "std       1.581139   7.905694  15811.388301\n",
      "min       1.000000  25.000000  50000.000000\n",
      "25%       2.000000  30.000000  60000.000000\n",
      "50%       3.000000  35.000000  70000.000000\n",
      "75%       4.000000  40.000000  80000.000000\n",
      "max       5.000000  45.000000  90000.000000\n"
     ]
    }
   ],
   "source": [
    "print(df.describe())"
   ]
  },
  {
   "cell_type": "markdown",
   "id": "57c85130-72e3-447a-a496-cebc4d20533b",
   "metadata": {},
   "source": [
    "Question #2:"
   ]
  },
  {
   "cell_type": "code",
   "execution_count": 16,
   "id": "130c3f73-81dc-47c5-91d2-4c18c171dec6",
   "metadata": {},
   "outputs": [],
   "source": [
    "df = pd.read_csv(r\"C:\\Users\\vishe\\Downloads\\Phone Link\\movies.csv\")"
   ]
  },
  {
   "cell_type": "code",
   "execution_count": 18,
   "id": "4f13824b-1b6b-46c1-a4e5-931e598dc993",
   "metadata": {},
   "outputs": [
    {
     "name": "stdout",
     "output_type": "stream",
     "text": [
      "movieId    0\n",
      "title      0\n",
      "genres     0\n",
      "dtype: int64\n"
     ]
    }
   ],
   "source": [
    "print(df.isnull().sum())"
   ]
  },
  {
   "cell_type": "code",
   "execution_count": 20,
   "id": "cc4ebf3b-ba83-4bb3-9da4-6968834110fd",
   "metadata": {},
   "outputs": [
    {
     "name": "stdout",
     "output_type": "stream",
     "text": [
      "movieId    9742\n",
      "title      9737\n",
      "genres      951\n",
      "dtype: int64\n"
     ]
    }
   ],
   "source": [
    "print(df.nunique())"
   ]
  },
  {
   "cell_type": "code",
   "execution_count": 26,
   "id": "1300f00f-4f22-4446-918d-dcfc55e6dcc0",
   "metadata": {},
   "outputs": [],
   "source": [
    "df.to_csv(r\"cleaned_file.csv\", index=False)"
   ]
  },
  {
   "cell_type": "code",
   "execution_count": 30,
   "id": "d6db4a6b-18f4-452e-a11d-8fabea6d24c9",
   "metadata": {},
   "outputs": [],
   "source": [
    "df=pd.read_csv(r\"C:\\Users\\vishe\\Jupyter\\cleaned_file.csv\")"
   ]
  }
 ],
 "metadata": {
  "kernelspec": {
   "display_name": "Python 3 (ipykernel)",
   "language": "python",
   "name": "python3"
  },
  "language_info": {
   "codemirror_mode": {
    "name": "ipython",
    "version": 3
   },
   "file_extension": ".py",
   "mimetype": "text/x-python",
   "name": "python",
   "nbconvert_exporter": "python",
   "pygments_lexer": "ipython3",
   "version": "3.12.4"
  }
 },
 "nbformat": 4,
 "nbformat_minor": 5
}
